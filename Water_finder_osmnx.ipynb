{
  "nbformat": 4,
  "nbformat_minor": 0,
  "metadata": {
    "colab": {
      "name": "Water_finder_osmnx.ipynb",
      "version": "0.3.2",
      "provenance": [],
      "collapsed_sections": [],
      "include_colab_link": true
    },
    "kernelspec": {
      "name": "python3",
      "display_name": "Python 3"
    }
  },
  "cells": [
    {
      "cell_type": "markdown",
      "metadata": {
        "id": "view-in-github",
        "colab_type": "text"
      },
      "source": [
        "<a href=\"https://colab.research.google.com/github/klubgllrt/RoughWaterway_GeoTools/blob/master/Water_finder_osmnx.ipynb\" target=\"_parent\"><img src=\"https://colab.research.google.com/assets/colab-badge.svg\" alt=\"Open In Colab\"/></a>"
      ]
    },
    {
      "cell_type": "code",
      "metadata": {
        "id": "SjPdBh4XZxbf",
        "colab_type": "code",
        "colab": {}
      },
      "source": [
        "! pip install  osmnx"
      ],
      "execution_count": 0,
      "outputs": []
    },
    {
      "cell_type": "code",
      "metadata": {
        "id": "skHoen9OOcOc",
        "colab_type": "code",
        "colab": {}
      },
      "source": [
        "!pip install reverse-geocode"
      ],
      "execution_count": 0,
      "outputs": []
    },
    {
      "cell_type": "code",
      "metadata": {
        "id": "NJMyuH8d0a1-",
        "colab_type": "code",
        "colab": {}
      },
      "source": [
        "!sudo apt-get install libgeos-3.5.0\n",
        "!sudo apt-get install libgeos-dev\n",
        "!sudo pip install https://github.com/matplotlib/basemap/archive/master.zip"
      ],
      "execution_count": 0,
      "outputs": []
    },
    {
      "cell_type": "code",
      "metadata": {
        "id": "4weSCAhqao-7",
        "colab_type": "code",
        "colab": {}
      },
      "source": [
        "!sudo apt install libspatialindex-dev"
      ],
      "execution_count": 0,
      "outputs": []
    },
    {
      "cell_type": "code",
      "metadata": {
        "id": "Gm8PHJaBeLgv",
        "colab_type": "code",
        "colab": {}
      },
      "source": [
        "! pip install overpy"
      ],
      "execution_count": 0,
      "outputs": []
    },
    {
      "cell_type": "code",
      "metadata": {
        "id": "C-PpyEoXGBDd",
        "colab_type": "code",
        "colab": {}
      },
      "source": [
        "! pip install fuzzywuzzy"
      ],
      "execution_count": 0,
      "outputs": []
    },
    {
      "cell_type": "code",
      "metadata": {
        "id": "_jUHmVb66zPw",
        "colab_type": "code",
        "colab": {}
      },
      "source": [
        "import geopandas as gpd #\n",
        "import pandas as pd #\n",
        "import shapely\n",
        "from shapely.geometry import shape\n",
        "from shapely.geometry import Point, MultiPoint\n",
        "from shapely.ops import nearest_points\n",
        "from json import loads\n",
        "import matplotlib.pyplot as plt\n",
        "import numpy as np\n",
        "%matplotlib inline\n",
        "import matplotlib.pyplot as plt\n",
        "import osmnx as ox\n",
        "ox.config(log_file=True, log_console=True, use_cache=True)\n",
        "import numpy as np \n",
        "\n",
        "crs = {'init': 'epsg:4326'}\n",
        "pd.set_option('display.max_columns', None)"
      ],
      "execution_count": 0,
      "outputs": []
    },
    {
      "cell_type": "code",
      "metadata": {
        "id": "NiKMIUTvYvMa",
        "colab_type": "code",
        "colab": {}
      },
      "source": [
        "from fuzzywuzzy import fuzz"
      ],
      "execution_count": 0,
      "outputs": []
    },
    {
      "cell_type": "code",
      "metadata": {
        "id": "u7jFKAMFtW4T",
        "colab_type": "code",
        "colab": {}
      },
      "source": [
        "df = pd.read_excel('WW Freshwater Datashare.xlsx')\n",
        "df.head()"
      ],
      "execution_count": 0,
      "outputs": []
    },
    {
      "cell_type": "code",
      "metadata": {
        "id": "TbWJlZAg69Xi",
        "colab_type": "code",
        "colab": {}
      },
      "source": [
        "df.rename(columns={\n",
        "                    'Sample Lat/Long - Latitude':'Latitude',\n",
        "                    'Sample Lat/Long - Longitude':'Longitude',\n",
        "                  }, \n",
        "                 inplace=True)\n",
        "df = df.dropna(subset=['Latitude', 'Longitude'])"
      ],
      "execution_count": 0,
      "outputs": []
    },
    {
      "cell_type": "code",
      "metadata": {
        "id": "kgzmmyyV7HD5",
        "colab_type": "code",
        "colab": {}
      },
      "source": [
        "#gdf_as = gpd.GeoDataFrame(df, geometry=gpd.points_from_xy(df.Longitude, df.Latitude))\n",
        "\n",
        "# creating a geometry column \n",
        "geometry = [Point(xy) for xy in zip(df['Longitude'], df['Latitude'])]\n",
        "\n",
        "# Creating a Geographic data frame \n",
        "gdf_as = gpd.GeoDataFrame(df, crs=crs, geometry=geometry)\n",
        "\n",
        "gdf_as.head()"
      ],
      "execution_count": 0,
      "outputs": []
    },
    {
      "cell_type": "code",
      "metadata": {
        "id": "Zsbvo91ri7E5",
        "colab_type": "code",
        "colab": {}
      },
      "source": [
        "def make_plot(G, footprints=False):\n",
        "    fig, ax = ox.plot.plot_graph(G, \n",
        "                               bbox=None, \n",
        "                               fig_height=6, \n",
        "                               fig_width=None, \n",
        "                               margin=0.02, \n",
        "                               axis_off=True, \n",
        "                               equal_aspect=False, \n",
        "                               bgcolor='w', \n",
        "                               show=True, \n",
        "                               save=False, \n",
        "                               close=True, \n",
        "                               file_format='png', \n",
        "                               filename='temp', \n",
        "                               dpi=300, \n",
        "                               annotate=False, \n",
        "                               node_color='#66ccff', \n",
        "                               node_size=15, \n",
        "                               node_alpha=1, \n",
        "                               node_edgecolor='none', \n",
        "                               node_zorder=1, \n",
        "                               edge_color='#999999', \n",
        "                               edge_linewidth=1, \n",
        "                               edge_alpha=1, \n",
        "                               use_geom=True)"
      ],
      "execution_count": 0,
      "outputs": []
    },
    {
      "cell_type": "code",
      "metadata": {
        "id": "dxkhk7ZQl6dO",
        "colab_type": "code",
        "colab": {}
      },
      "source": [
        "def get_network_graph(point, dist=1000):\n",
        "  G = ox.core.graph_from_point(point, \n",
        "                              distance=dist, \n",
        "                              distance_type='network', \n",
        "                              network_type='all', \n",
        "                              simplify=True, \n",
        "                              retain_all=False, \n",
        "                              truncate_by_edge=False, \n",
        "                              name='unnamed', \n",
        "                              timeout=20, \n",
        "                              memory=None, \n",
        "                              max_query_area_size=2500000000, \n",
        "                              clean_periphery=True, \n",
        "                              infrastructure='way[\"waterway\"]', \n",
        "                              custom_filter=None)\n",
        "  return G"
      ],
      "execution_count": 0,
      "outputs": []
    },
    {
      "cell_type": "code",
      "metadata": {
        "id": "T5-J9wv5p5HU",
        "colab_type": "code",
        "colab": {}
      },
      "source": [
        "def get_gdf_from_G(G):\n",
        "  gdf = ox.save_load.graph_to_gdfs(G, \n",
        "                                   nodes=False, \n",
        "                                   edges=True, \n",
        "                                   node_geometry=False, \n",
        "                                   fill_edge_geometry=True)\n",
        "  return gdf"
      ],
      "execution_count": 0,
      "outputs": []
    },
    {
      "cell_type": "code",
      "metadata": {
        "id": "5-w3dyKprut5",
        "colab_type": "code",
        "colab": {}
      },
      "source": [
        "def get_water_fp_place(place):\n",
        "  gdf_fp=ox.footprints.footprints_from_place(place, footprint_type='waterway', retain_invalid=False)\n",
        "  # gdf_fp[gdf_fp.waterway=='drain'].plot()\n",
        "  return gdf_fp\n",
        "  "
      ],
      "execution_count": 0,
      "outputs": []
    },
    {
      "cell_type": "code",
      "metadata": {
        "id": "kUTEuZmuK1cD",
        "colab_type": "code",
        "colab": {}
      },
      "source": [
        "from shapely.ops import cascaded_union\n",
        "\n",
        "def comb_poly(gdf_s, buff_size =.1):\n",
        "  gdf_s['geometry']= gdf_s.geometry.buffer(buff_size)\n",
        "  polygons = gdf_s['geometry'].to_list()\n",
        "  boundary = gpd.GeoSeries(cascaded_union(polygons))\n",
        "  poly = boundary[0]\n",
        "  return poly\n",
        "def get_water_from_gdf(gdf, buf=.1, rend=0):\n",
        "  poly1 = comb_poly(gdf, buf)\n",
        "  gdf_f = ox.footprints.footprints_from_polygon(poly1, footprint_type='waterway', retain_invalid=False)\n",
        "  return gdf_f\n",
        "\n",
        "# point= (45.124858, -92.746426)\n",
        "# G = get_network_graph(point, dist=1000)\n",
        "# gdf = get_gdf_from_G(G)\n",
        "\n",
        "# pol = get_water_from_gdf(gdf)\n",
        "# pol.plot()\n",
        "\n",
        "  \n",
        "  \n",
        "\n",
        "# gdf_f \n",
        "# # gdf_s.plot()\n",
        "#df2 = ox.footprints.create_footprints_gdf(gdf.iloc[0], north=None, south=None, east=None, west=None, footprint_type='building', retain_invalid=False)\n"
      ],
      "execution_count": 0,
      "outputs": []
    },
    {
      "cell_type": "code",
      "metadata": {
        "id": "CCTR738xOzQl",
        "colab_type": "code",
        "colab": {}
      },
      "source": [
        "!pip install reverse_geocoder"
      ],
      "execution_count": 0,
      "outputs": []
    },
    {
      "cell_type": "code",
      "metadata": {
        "id": "mhM7Iz13LcJo",
        "colab_type": "code",
        "colab": {}
      },
      "source": [
        "import reverse_geocoder as rg\n",
        "def lookupgeo(indx=1):\n",
        "  i= indx\n",
        "  lat= gdf_as.geometry.y.iloc[i]\n",
        "  lon= gdf_as.geometry.x.iloc[i]\n",
        "  results = rg.search([lat, lon])\n",
        "  for idx, city in enumerate(results):\n",
        "      gdata = results[idx]\n",
        "      QRYcity=gdata['name']\n",
        "      QRYadmin1= gdata['admin1']\n",
        "      QRYadmin2= gdata['admin2']\n",
        "      QRYcc=gdata['cc']\n",
        "      return QRYcity,QRYadmin1, QRYadmin2, QRYcc \n",
        "\n",
        "lookupgeo()"
      ],
      "execution_count": 0,
      "outputs": []
    },
    {
      "cell_type": "code",
      "metadata": {
        "id": "XoOiQ3HCg0fZ",
        "colab_type": "code",
        "colab": {}
      },
      "source": [
        "import reverse_geocoder as rg\n",
        "def lookupgeo2(gdf):\n",
        "  i= indx\n",
        "  lat= gdf.geometry.y\n",
        "  lon= gdf.geometry.x\n",
        "  print(lat, lon)\n",
        "  results = [lat, lon].apply(lambda lat, lon: rg.search(\"[\", lat,\",\" lon\"]\")\n",
        "  for idx, city in enumerate(results):\n",
        "      gdata = results[idx]\n",
        "      QRYcity=gdata['name']\n",
        "      QRYadmin1= gdata['admin1']\n",
        "      QRYadmin2= gdata['admin2']\n",
        "      QRYcc=gdata['cc']\n",
        "      return QRYcity,QRYadmin1, QRYadmin2, QRYcc \n",
        "    \n",
        "gdf_as.shape"
      ],
      "execution_count": 0,
      "outputs": []
    },
    {
      "cell_type": "code",
      "metadata": {
        "id": "vlpSGl34e1xh",
        "colab_type": "code",
        "colab": {}
      },
      "source": [
        "r=range(0, 2401)\n",
        "gdf_as['QRYcity'] = 'e'\n",
        "gdf_as['QRYadmin1'] = 'e'\n",
        "gdf_as['QRYadmin2']= 'e'\n",
        "gdf_as['QRYcc']='e'\n",
        "\n",
        "for i in r: \n",
        "  QRYcity,QRYadmin1, QRYadmin2, QRYcc = lookupgeo(i)\n",
        "  gdf_as['QRYcity'][i] = QRYcity\n",
        "  gdf_as['QRYadmin1'][i] = QRYadmin1\n",
        "  gdf_as['QRYadmin2'][i] = QRYadmin2\n",
        "  gdf_as['QRYcc'][i] = QRYcc\n",
        "  print(i)\n",
        "\n",
        "gdf_as.head()  "
      ],
      "execution_count": 0,
      "outputs": []
    },
    {
      "cell_type": "code",
      "metadata": {
        "id": "CSoU5cE44gne",
        "colab_type": "code",
        "colab": {}
      },
      "source": [
        "gdf_as"
      ],
      "execution_count": 0,
      "outputs": []
    },
    {
      "cell_type": "code",
      "metadata": {
        "id": "90kP2g0YR5n-",
        "colab_type": "code",
        "colab": {}
      },
      "source": [
        "def do_ox_analysis(gdf, index=1, Loud=False, Lean = False):\n",
        "  gdf_a = gdf\n",
        "  i = index\n",
        "  ogloc = gdf_a[['Sample Location']].iloc[i]\n",
        "  print('index: ', i)\n",
        "  \n",
        "  QRYcity,QRYadmin1, QRYadmin2, QRYcc = lookupgeo(i)  \n",
        "  \n",
        " \n",
        "  \n",
        "  msg =''\n",
        "  point = (gdf_a.geometry.y[i], gdf_a.geometry.x[i])\n",
        "  place = gdf_a['Sample Location'][i]\n",
        "  \n",
        "  \n",
        "  try:\n",
        "    Method='Network'\n",
        "    G = get_network_graph(point, dist=1000)\n",
        "    gdf = get_gdf_from_G(G)\n",
        "    most_common_name = gdf['name'].value_counts().idxmax()\n",
        "    gdf['new_name']=most_common_name\n",
        "    gdf = get_water_from_gdf(gdf)\n",
        "#     msg = \"G-> gdf: GOOD\"\n",
        "#     print('\\t', msg)\n",
        "#     make_plot(G) \n",
        "  except: \n",
        "    msg = \"WARNING!!!! G-> gdf: FAILED\"\n",
        "    #print('\\t', msg)\n",
        "    #print(\"\\t Could not generate network graph... seaching location\")\n",
        "  \n",
        "    try:\n",
        "      Method='Location'\n",
        "      gdf = get_water_fp_place(place)\n",
        "#       gdf.plot()\n",
        "#       plt.show()\n",
        "    except:  \n",
        "      msg = \"WARNING!!!! Location: FAILED\"\n",
        "      #print('\\t', msg)\n",
        " \n",
        "      try:\n",
        "        Method='Geocoded Location'\n",
        "        gdf = get_water_fp_place(QRYcity)\n",
        "#         gdf.plot()\n",
        "#         plt.show()\n",
        "      except:  \n",
        "        Method='Fail'\n",
        "        print('Method: FAILURE',msg, \"NO RESULTS :(\", \"\\n\\n\")\n",
        "        return\n",
        "  keep_list = ['Record', 'Total Other Shape','Total Filament','geometry','Continent', 'Country', 'Depth of Water Body (approximate, FW only)', 'Exposed rocks present in sampling area? (FW only)', 'Notes', 'Number of Filters', 'Sample Date', 'Latitude', 'Longitude', 'Sample Location', 'Sample Time (local)', 'Sample Volume (L)', 'Sample Year', 'Sample location (Urban, Rural, Remote)', 'Sample waters', 'Sampling Platform', 'Sediment Load', 'Lab Notes', 'Plastic Type', 'Total Pieces', 'Total Pieces/L']\n",
        "  gdf_a = gdf_a[keep_list]\n",
        "  gdf['Original_name'] = ogloc\n",
        "  if Lean == False:\n",
        "    gdf['QRYcity'] = QRYcity\n",
        "    gdf['QRYadmin1'] = QRYadmin1\n",
        "    gdf['QRYadmin2'] = QRYadmin2\n",
        "    gdf['QRYcc'] = QRYcc\n",
        "    gdf['loop'] = i\n",
        "    gdf['MapMethod'] = Method\n",
        "    gdf['Record']= gdf_a['Record'].iloc[i]\n",
        "    gdf['Sample Date']= gdf_a['Sample Date'].iloc[i]\n",
        "    gdf['Year']= gdf_a['Sample Year'].iloc[i]\n",
        "    gdf['Sample Time (local)']= gdf_a['Sample Time (local)'].iloc[i]\n",
        "    gdf['Latitude']= gdf_a['Latitude'].iloc[i]\n",
        "    gdf['Longitude']= gdf_a['Longitude'].iloc[i]\n",
        "    gdf['Continent']= gdf_a['Continent'].iloc[i]\n",
        "    gdf['Country']= gdf_a['Country'].iloc[i]\n",
        "    gdf['Sample_waters']= gdf_a['Sample waters'].iloc[i]\n",
        "    gdf['Sample_location_class']= gdf_a['Sample location (Urban, Rural, Remote)'].iloc[i]\n",
        "    gdf['Notes']= gdf_a['Notes'].iloc[i]\n",
        "    gdf['Total_Filament']= gdf_a['Total Filament'].iloc[i]\t\n",
        "    gdf['Total_Other_Shape'] = gdf_a['Total Other Shape'].iloc[i]\t\n",
        "    gdf['Total_Pieces']= gdf_a['Total Pieces'].iloc[i]\n",
        "    gdf['PiecesPerLiter']= gdf_a['Total Pieces/L'].iloc[i]\t\n",
        "    gdf['Plastic_Type']= gdf_a['Plastic Type'].iloc[i]\n",
        "    gdf['Lab_Notes']= gdf_a['Lab Notes'].iloc[i]\n",
        "\n",
        "  print('Method: ',Method, '\\n\\n')\n",
        "  #if Loud ==True:\n",
        "\n",
        "     # print(gdf_a[['Sample Location','Continent', 'Country', \t'Sample waters', \t'Sample location (Urban, Rural, Remote)']].iloc[i])\n",
        "\n",
        "\n",
        "\n",
        "\n",
        "\n",
        "\n",
        "  return gdf"
      ],
      "execution_count": 0,
      "outputs": []
    },
    {
      "cell_type": "code",
      "metadata": {
        "id": "PloezSJ1WOpP",
        "colab_type": "code",
        "colab": {}
      },
      "source": [
        "\n",
        "err = 0 \n",
        "gdfm = gpd.GeoDataFrame()\n",
        "debug=False\n",
        "\n",
        "\n",
        "r=range(0, 1008)\n",
        "\n",
        "if debug==True:\n",
        "  print(gdfm)\n",
        "  r = range(15, 20)\n",
        "  \n",
        "for i in r: \n",
        "  \n",
        "  gdf= do_ox_analysis(gdf_as, index=i, Loud=debug)\n",
        "  try:\n",
        "    gdfm = gdfm.append(gdf)\n",
        "#     gdf.plot() \n",
        "  except:\n",
        "    err+=1\n",
        "\n",
        "# if debug==True:\n",
        "print('ERROR_RATE: ',((err/(i+1))*100),'%')\n",
        "\n",
        "\n",
        "gdfm.head()  "
      ],
      "execution_count": 0,
      "outputs": []
    },
    {
      "cell_type": "code",
      "metadata": {
        "id": "lhWRvjGrAOhq",
        "colab_type": "code",
        "colab": {}
      },
      "source": [
        "df= gdfm\n",
        "\n",
        "# df['Dt'] = pd.to_datetime((gdfm['Sample Date'].astype(str)+ ' ' + gdfm['Sample Time (local)'].astype(str)), errors='coerce')\n",
        "df = df.drop(['Sample Date', 'Sample Time (local)', 'nodes'], axis=1)\n",
        "#df = df[~df[geometry]].astype(str, errors='ignore') \n",
        "# df =df.reset_index()\n",
        "# df['Dt'] = df['Dt'].astype(str)\n",
        "print(df.info())\n",
        "gdf = gpd.GeoDataFrame(df, geometry='geometry', crs=crs)\n",
        "gdf.head()\n",
        "\n",
        "from google.colab import files\n",
        "gdf.to_file(\"MPC_MAP_FreshWater.shp\")\n",
        "files.download('MPC_MAP_FreshWater.shp')"
      ],
      "execution_count": 0,
      "outputs": []
    },
    {
      "cell_type": "code",
      "metadata": {
        "id": "_VoD-7yWIVUN",
        "colab_type": "code",
        "colab": {}
      },
      "source": [
        "\n",
        "print(gdfm['MapMethod'].value_counts())\n",
        "# temp = gdfm[gdfm['MapMethod']=='Location']\n",
        "# temp[temp['loop']==1].plot()"
      ],
      "execution_count": 0,
      "outputs": []
    },
    {
      "cell_type": "code",
      "metadata": {
        "id": "yt5RwmRtvKYf",
        "colab_type": "code",
        "colab": {}
      },
      "source": [
        "#gdfw = gdfm.select_dtypes(exclude=['datetime64'])\n",
        "gdf_as"
      ],
      "execution_count": 0,
      "outputs": []
    },
    {
      "cell_type": "code",
      "metadata": {
        "id": "DGATLNvt6IjA",
        "colab_type": "code",
        "colab": {}
      },
      "source": [
        "dfw.to_csv('WWMP_Poly_out.csv')"
      ],
      "execution_count": 0,
      "outputs": []
    },
    {
      "cell_type": "code",
      "metadata": {
        "id": "QsB3MhvYy1bz",
        "colab_type": "code",
        "colab": {}
      },
      "source": [
        "dfw.group"
      ],
      "execution_count": 0,
      "outputs": []
    },
    {
      "cell_type": "code",
      "metadata": {
        "id": "cD8PCsGAK_vJ",
        "colab_type": "code",
        "colab": {}
      },
      "source": [
        "# d1 = {'geo': ['start'], 'loct': ['start']}\n",
        "gfd_l = gpd.GeoDataFrame()\n",
        "gfd_l.reset_index()\n",
        "gfd_l"
      ],
      "execution_count": 0,
      "outputs": []
    },
    {
      "cell_type": "code",
      "metadata": {
        "id": "JsI6Cpss3JSg",
        "colab_type": "code",
        "colab": {}
      },
      "source": [
        "dfg = pd.read_csv('WWMP_Poly_out.csv')"
      ],
      "execution_count": 0,
      "outputs": []
    },
    {
      "cell_type": "code",
      "metadata": {
        "id": "rFVQypnNcDg1",
        "colab_type": "code",
        "colab": {}
      },
      "source": [
        "import pandas as pd"
      ],
      "execution_count": 0,
      "outputs": []
    },
    {
      "cell_type": "code",
      "metadata": {
        "id": "dbhdXDdu3s1h",
        "colab_type": "code",
        "colab": {}
      },
      "source": [
        "dfc = pd.read_csv('WWMP_small.csv')\n",
        "dfc.columns.to_list()"
      ],
      "execution_count": 0,
      "outputs": []
    },
    {
      "cell_type": "code",
      "metadata": {
        "id": "-Eulr39xcW5A",
        "colab_type": "code",
        "colab": {}
      },
      "source": [
        "!pip install geopandas"
      ],
      "execution_count": 0,
      "outputs": []
    },
    {
      "cell_type": "code",
      "metadata": {
        "id": "w3_2ws3EcRTs",
        "colab_type": "code",
        "colab": {}
      },
      "source": [
        "import geopandas as gpd"
      ],
      "execution_count": 0,
      "outputs": []
    },
    {
      "cell_type": "code",
      "metadata": {
        "id": "jESs7OPF4wLs",
        "colab_type": "code",
        "colab": {}
      },
      "source": [
        "geometry = [Point(xy) for xy in zip(dfc['Longitude'], dfc['Latitude'])]\n",
        "\n",
        "# Creating a Geographic data frame \n",
        "gdf_as = gpd.GeoDataFrame(dfc, crs=crs, geometry=geometry)\n",
        "\n",
        "gdf_as.head()"
      ],
      "execution_count": 0,
      "outputs": []
    },
    {
      "cell_type": "code",
      "metadata": {
        "id": "_2ZOzKS86EeQ",
        "colab_type": "code",
        "colab": {}
      },
      "source": [
        "gdf_as.plot(color='blue')\n"
      ],
      "execution_count": 0,
      "outputs": []
    },
    {
      "cell_type": "code",
      "metadata": {
        "id": "dp417fkQc39Z",
        "colab_type": "code",
        "colab": {}
      },
      "source": [
        "gdf_as.to_file('WW_MP_with_info.shp')"
      ],
      "execution_count": 0,
      "outputs": []
    },
    {
      "cell_type": "code",
      "metadata": {
        "id": "l65fpzevduDM",
        "colab_type": "code",
        "colab": {}
      },
      "source": [
        "gdfcsv = gpd.read_file('WW_MP.shp')\n",
        "gdfcsv.info()"
      ],
      "execution_count": 0,
      "outputs": []
    },
    {
      "cell_type": "code",
      "metadata": {
        "id": "M8Hk7XLed5xv",
        "colab_type": "code",
        "colab": {}
      },
      "source": [
        "dfw=pd.DataFrame(gdfcsv)\n",
        "dfw.info()"
      ],
      "execution_count": 0,
      "outputs": []
    },
    {
      "cell_type": "code",
      "metadata": {
        "id": "uF1GJLMZeI4g",
        "colab_type": "code",
        "colab": {}
      },
      "source": [
        "dfw.to_csv('geocoded_WWMP_small.csv')"
      ],
      "execution_count": 0,
      "outputs": []
    },
    {
      "cell_type": "code",
      "metadata": {
        "id": "XObn8caE62F2",
        "colab_type": "code",
        "colab": {}
      },
      "source": [
        "gdf = gdf_as\n",
        "gdf['geometry']= gdf.geometry.buffer(1)\n",
        "gdf.plot(color='red')\n",
        "plt.show()"
      ],
      "execution_count": 0,
      "outputs": []
    },
    {
      "cell_type": "code",
      "metadata": {
        "id": "d7hkL4OW45eF",
        "colab_type": "code",
        "colab": {}
      },
      "source": [
        "gdf.to_file(\"1_Val_WW_MP_BufferedPoints.shp\")"
      ],
      "execution_count": 0,
      "outputs": []
    },
    {
      "cell_type": "code",
      "metadata": {
        "id": "CRHoM4xuXxs7",
        "colab_type": "code",
        "colab": {}
      },
      "source": [
        "dist =1000\n",
        "pt = (38.33486, -81.61276)\n",
        "sname = 'Kanawha River'\n",
        "\n",
        "map_settings = dict(\n",
        "      dist=10000,\n",
        "      edge_color='k',\n",
        "      bgcolor='w',\n",
        "      dpi = 300,\n",
        "      point = (38.8072489,-77.0479908),\n",
        "      default_width=2,\n",
        "      )\n",
        "print('gotdist: ',dist)\n",
        "map_settings['dist'] = dist\n",
        "print('gotpoint: ',pt)\n",
        "map_settings['point'] = pt #frame['Latitude'], frame['Longitude']#.geometry.y, frame.geometry.x\n",
        "\n",
        "\n",
        "#   fig, ax = ox.plot_figure_ground(network_type='all', \n",
        "#     **map_settings,\n",
        "#     )\n",
        "\n",
        "##### get info from row\n",
        "print(\"2 !!!!!gothere\")\n",
        "#sname = frame['Sample Location']\n",
        "\n",
        "\n",
        "\n",
        "##### find water & store to frame\n",
        "print(\"3 !!!!!gothere\")\n",
        "gdf_water = ox.footprints.footprints_from_point(point=map_settings['point'], \n",
        "    distance=map_settings['dist'], footprint_type='waterway',\n",
        "    )\n",
        "\n",
        "print(gdf_water)\n",
        "\n",
        "\n",
        "##### check title\n",
        "looks = pd.DataFrame()\n",
        "wname= []\n",
        "pRat=[]\n",
        "\n",
        "for name in gdf_water.name: \n",
        "  Str1 = str(name)\n",
        "  Str2 = str(sname)\n",
        "  if Str2.lower() != 'nan':\n",
        "    Ratio = fuzz.ratio(Str1.lower(),Str2.lower())\n",
        "    Partial_Ratio = fuzz.partial_ratio(Str1.lower(),Str2.lower())\n",
        "    wname.append(Str1)\n",
        "    pRat.append(Partial_Ratio)\n",
        "    looks = pd.DataFrame({'name':name,\n",
        "                          'pRat':pRat})\n",
        "\n",
        "    ##### did title work?\n",
        "if looks[looks.pRat>60].name.count() >0:\n",
        "\n",
        "  lookmx = looks.loc[looks['pRat'].idxmax()]\n",
        "  name = lookmx[0]\n",
        "  gdf_l = ox.core.gdf_from_place(name, gdf_name=name, which_result=1, buffer_dist=None) #     '[waterway=*]' +\n",
        "\n",
        "  print('MATCH!!! \\n\\n')\n",
        "\n",
        "else:\n",
        "  print('no matches')\n",
        "\n",
        "\n",
        "\n",
        "#print(gdf_water.info())\n",
        "gdf_l.plot()\n",
        "print(gdf_l)\n",
        "gdf_water.plot()\n",
        "\n",
        "#   if plotwater==True:\n",
        "\n",
        "#     north, south, east, west = ox.bbox_from_point(map_settings['point'], map_settings['dist'])\n",
        "#     G = ox.graph_from_bbox(north=north, south=south, east=east, west=west,\n",
        "#                            retain_all=True, truncate_by_edge=True, simplify=True,\n",
        "#                            network_type='none', infrastructure='way[\"waterway\"]')\n",
        "#     fig, ax = ox.plot_graph(ox.project_graph(G))\n",
        "\n",
        "#     return gdf_water, fig, gdf_l \n",
        "\n",
        "\n"
      ],
      "execution_count": 0,
      "outputs": []
    },
    {
      "cell_type": "code",
      "metadata": {
        "id": "opKjcTtHs7UW",
        "colab_type": "code",
        "colab": {}
      },
      "source": [
        "%matplotlib inline\n",
        "import matplotlib.pyplot as plt\n",
        "import osmnx as ox\n",
        "ox.config(log_file=True, log_console=True, use_cache=True)\n",
        "import numpy as np \n",
        "\n",
        "def getwater(frame, dist=1000, plotwater=False):\n",
        "  print(frame['Sample Location'])\n",
        "  pt = (frame['Latitude'], frame['Longitude'])\n",
        "  \n",
        "  try: \n",
        "    ###### ox chart settings\n",
        "\n",
        "    map_settings = dict(\n",
        "        dist=10000,\n",
        "        edge_color='k',\n",
        "        bgcolor='w',\n",
        "        dpi = 300,\n",
        "        point = (38.8072489,-77.0479908),\n",
        "        default_width=2,\n",
        "        )\n",
        "    print('gotdist: ',dist)\n",
        "    map_settings['dist'] = dist\n",
        "    print('gotpoint: ',pt)\n",
        "    map_settings['point'] = pt #frame['Latitude'], frame['Longitude']#.geometry.y, frame.geometry.x\n",
        "\n",
        "\n",
        "  #   fig, ax = ox.plot_figure_ground(network_type='all', \n",
        "  #     **map_settings,\n",
        "  #     )\n",
        "\n",
        "    ##### get info from row\n",
        "    sname = frame['Sample Location']\n",
        "\n",
        "\n",
        "\n",
        "    ##### find water & store to frame\n",
        "    gdf_water = ox.footprints.footprints_from_point(point=map_settings['point'], \n",
        "        distance=map_settings['dist'], footprint_type='waterway',\n",
        "        )\n",
        "\n",
        "    print(gdf_water)\n",
        "\n",
        "\n",
        "    ##### check title\n",
        "    looks = pd.DataFrame()\n",
        "    wname= []\n",
        "    pRat=[]\n",
        "\n",
        "    for name in gdf_water.name: \n",
        "      Str1 = str(name)\n",
        "      Str2 = str(sname)\n",
        "      if Str2.lower() != 'nan':\n",
        "        Ratio = fuzz.ratio(Str1.lower(),Str2.lower())\n",
        "        Partial_Ratio = fuzz.partial_ratio(Str1.lower(),Str2.lower())\n",
        "        wname.append(Str1)\n",
        "        pRat.append(Partial_Ratio)\n",
        "        looks = pd.DataFrame({'name':name,\n",
        "                              'pRat':pRat})\n",
        "\n",
        "        ##### did title work?\n",
        "    if looks[looks.pRat>60].name.count() >0:\n",
        "\n",
        "      lookmx = looks.loc[looks['pRat'].idxmax()]\n",
        "      name = lookmx[0]\n",
        "      gdf_l = ox.core.gdf_from_place(name, gdf_name=name, which_result=1, buffer_dist=None) #     '[waterway=*]' +\n",
        "\n",
        "      print('MATCH!!! \\n\\n')\n",
        "\n",
        "    else:\n",
        "      print('no matches')\n",
        "\n",
        "\n",
        "\n",
        "    #print(gdf_water.info())\n",
        "    gdf_l.plot()\n",
        "    print(gdf_l)\n",
        "    gdf_water.plot()\n",
        "    return gdf_l\n",
        "    if plotwater==True:\n",
        "\n",
        "      north, south, east, west = ox.bbox_from_point(map_settings['point'], map_settings['dist'])\n",
        "      G = ox.graph_from_bbox(north=north, south=south, east=east, west=west,\n",
        "                             retain_all=True, truncate_by_edge=True, simplify=True,\n",
        "                             network_type='none', infrastructure='way[\"waterway\"]')\n",
        "      fig, ax = ox.plot_graph(ox.project_graph(G))\n",
        "\n",
        "      return gdf_water, fig, gdf_l \n",
        "  \n",
        "  except:\n",
        "    print(\"An exception occurred at: \", sname)\n",
        "    gdf_l = 'oops'\n",
        "  return gdf_l"
      ],
      "execution_count": 0,
      "outputs": []
    },
    {
      "cell_type": "code",
      "metadata": {
        "id": "1LgTUsCwCHL4",
        "colab_type": "code",
        "colab": {}
      },
      "source": [
        "osmnx.footprints.footprints_from_point()"
      ],
      "execution_count": 0,
      "outputs": []
    },
    {
      "cell_type": "code",
      "metadata": {
        "id": "MO97oanD5lza",
        "colab_type": "code",
        "colab": {}
      },
      "source": [
        "gdf_t = pd.DataFrame(gdf_as.iloc[[0]])\n",
        "\n",
        "#print(gdf_t.geometry)\n",
        "gdf_try = gdf_t.apply(getwater, axis=1, args=(1000, True))\n",
        "gdf_try"
      ],
      "execution_count": 0,
      "outputs": []
    },
    {
      "cell_type": "code",
      "metadata": {
        "id": "vw3yGp6IeIxn",
        "colab_type": "code",
        "colab": {}
      },
      "source": [
        "import overpy\n",
        "api = overpy.Overpass()\n",
        "r = api.query(\"\"\"\n",
        "area[\"ISO3166-1\"=\"DE\"][admin_level=2];\n",
        "(node[\"amenity\"=\"biergarten\"](area);\n",
        " way[\"amenity\"=\"biergarten\"](area);\n",
        " rel[\"amenity\"=\"biergarten\"](area);\n",
        ");\n",
        "out center;\n",
        "\"\"\")\n",
        "coords  = []\n",
        "coords += [(float(node.lon), float(node.lat)) \n",
        "           for node in r.nodes]\n",
        "coords += [(float(way.center_lon), float(way.center_lat)) \n",
        "           for way in r.ways]\n",
        "coords += [(float(rel.center_lon), float(rel.center_lat)) \n",
        "           for rel in r.relations]"
      ],
      "execution_count": 0,
      "outputs": []
    },
    {
      "cell_type": "code",
      "metadata": {
        "id": "p9mttBwwv_NA",
        "colab_type": "code",
        "colab": {}
      },
      "source": [
        "# Convert coordinates into numpy array\n",
        "X = np.array(coords)\n",
        "plt.plot(X[:, 0], X[:, 1], 'o')\n",
        "plt.title('Biergarten in Germany')\n",
        "plt.xlabel('Longitude')\n",
        "plt.ylabel('Latitude')\n",
        "plt.axis('equal')\n",
        "plt.show()"
      ],
      "execution_count": 0,
      "outputs": []
    },
    {
      "cell_type": "code",
      "metadata": {
        "id": "rBSDNeyKBiV9",
        "colab_type": "code",
        "colab": {}
      },
      "source": [
        "import overpy\n",
        "\n",
        "api = overpy.Overpass()\n",
        "\n",
        "# fetch all ways and nodes\n",
        "result = api.query(\"\"\"\n",
        "    way(50.746,7.154,50.748,7.157) [\"highway\"];\n",
        "    (._;>;);\n",
        "    out body;\n",
        "    \"\"\")\n",
        "\n",
        "for way in result.ways:\n",
        "    print(\"Name: %s\" % way.tags.get(\"name\", \"n/a\"))\n",
        "    print(\"  Highway: %s\" % way.tags.get(\"highway\", \"n/a\"))\n",
        "    print(\"  Nodes:\")\n",
        "    for node in way.nodes:\n",
        "        print(\"    Lat: %f, Lon: %f\" % (node.lat, node.lon))"
      ],
      "execution_count": 0,
      "outputs": []
    },
    {
      "cell_type": "code",
      "metadata": {
        "id": "DgfyT1itq__j",
        "colab_type": "code",
        "colab": {}
      },
      "source": [
        "i=17\n",
        "point = (gdf_as.geometry.y[i], gdf_as.geometry.x[i])\n",
        "place = gdf_as['Sample Location'][i]\n",
        "distance = 100000\n",
        "print(\"Name: \", place)\n",
        "print(\"point: \", point)\n",
        "\n",
        "#gdf = ox.footprints.footprints_from_point(point, distance, footprint_type='waterway', retain_invalid=False)\n",
        "gdf = ox.footprints.footprints_from_place(place, footprint_type='waterway', retain_invalid=False)\n",
        "gdf.plot()\n",
        "gdf.head()"
      ],
      "execution_count": 0,
      "outputs": []
    },
    {
      "cell_type": "code",
      "metadata": {
        "id": "--9OAwqI3ip9",
        "colab_type": "code",
        "colab": {}
      },
      "source": [
        "\n",
        "\n",
        "\n",
        "#gdf.groupby('name').count()\n",
        "gdf"
      ],
      "execution_count": 0,
      "outputs": []
    },
    {
      "cell_type": "code",
      "metadata": {
        "id": "A447m5CPF912",
        "colab_type": "code",
        "colab": {}
      },
      "source": [
        "from fuzzywuzzy import fuzz"
      ],
      "execution_count": 0,
      "outputs": []
    },
    {
      "cell_type": "code",
      "metadata": {
        "id": "GXKOkNeT7WuX",
        "colab_type": "code",
        "colab": {}
      },
      "source": [
        "\n",
        "\n",
        "dfgrowing = gpd.GeoDataFrame()\n",
        "for i in range(0,1000):\n",
        "  try:\n",
        "    point =  gdf_as.geometry[i].y, gdf_as.geometry[i].x\n",
        "    print(point)\n",
        "    #df, fig, gdf_l = getwater(gdf_as['Sample Location'][i], point, distance= 1000)\n",
        "    df, fig, gdf_l = getwater(gdf_as['Sample Location'][i], point, distance= 1000, plotwater=True)\n",
        "\n",
        "    print('Sample Location: ', gdf_as['Sample Location'][i])\n",
        "    print('Sample Waters: ',gdf_as['Sample waters'][i])\n",
        "\n",
        "\n",
        "    gdf_t = pd.DataFrame(gdf_as.iloc[[i]])\n",
        "    gdf_t = gdf_t.reset_index()\n",
        "    del gdf_t['geometry']\n",
        "    gdf_t['bbox_east']=gdf_l['bbox_east']\n",
        "    gdf_t['bbox_north']=gdf_l['bbox_north']\n",
        "    gdf_t['bbox_west']=gdf_l['bbox_west']\n",
        "    gdf_t['geometry']=gdf_l['geometry']\n",
        "    gdf_t['place_name']=gdf_l['place_name']\n",
        "    gdf_t.head()\n",
        "    dfgrowing.append(gdf_t)\n",
        "  except:\n",
        "    print(\"An exception occurred at: \", i)\n",
        "   \n",
        "    gdf_t = pd.DataFrame(gdf_as.iloc[[i]])\n",
        "    gdf_t = gdf_t.reset_index()\n",
        "    gdf_t['bbox_east']= '9999'\n",
        "    gdf_t['bbox_north']='9999'\n",
        "    gdf_t['bbox_west']='9999'\n",
        "    gdf_t['geometry']='9999'\n",
        "    gdf_t['place_name']='9999'\n",
        "    dfgrowing.append(gdf_t)\n",
        "\n",
        "dfgrowing.head()"
      ],
      "execution_count": 0,
      "outputs": []
    },
    {
      "cell_type": "code",
      "metadata": {
        "id": "TzJR0kPRytFI",
        "colab_type": "code",
        "colab": {}
      },
      "source": [
        "\n",
        "gdf_l = ox.core.gdf_from_place('Hells Canyon Tank, AZ', gdf_name='Mississippi River, Minnesota', which_result=1, buffer_dist=None)\n",
        "gdf_l.columns.tolist()"
      ],
      "execution_count": 0,
      "outputs": []
    },
    {
      "cell_type": "code",
      "metadata": {
        "id": "bBDufgK2zR3x",
        "colab_type": "code",
        "colab": {}
      },
      "source": [
        "%matplotlib inline\n",
        "import pandas as pd, numpy as np, matplotlib.pyplot as plt\n",
        "from geopandas import GeoDataFrame\n",
        "from mpl_toolkits.basemap import Basemap\n",
        "from shapely.geometry import Point"
      ],
      "execution_count": 0,
      "outputs": []
    },
    {
      "cell_type": "code",
      "metadata": {
        "id": "Lz41hYmx2FYt",
        "colab_type": "code",
        "colab": {}
      },
      "source": [
        "# define basemap colors\n",
        "land_color = '#F6F6F6'\n",
        "water_color = '#D2F5FF'\n",
        "coastline_color = '#333333'\n",
        "border_color = '#999999'\n",
        "\n",
        "\n",
        "# first define a transverse mercator projection\n",
        "map_width_m = 1000 * 1000\n",
        "map_height_m = 1200 * 1000\n",
        "target_crs = {'datum':'WGS84',\n",
        "              'ellps':'WGS84',\n",
        "              'proj':'tmerc',\n",
        "              'lon_0':-119,\n",
        "              'lat_0':37.5}\n",
        "\n",
        "\n",
        "# plot the map\n",
        "fig_width = 6\n",
        "plt.figure(figsize=[fig_width, fig_width * map_height_m / float(map_width_m)])\n",
        "\n",
        "m = Basemap(ellps=target_crs['ellps'],\n",
        "            projection=target_crs['proj'],\n",
        "            lon_0=target_crs['lon_0'], \n",
        "            lat_0=target_crs['lat_0'],\n",
        "            width=map_width_m, \n",
        "            height=map_height_m,\n",
        "            resolution='l',\n",
        "            area_thresh=10000)\n",
        "\n",
        "m.drawcoastlines(color=coastline_color)\n",
        "m.drawcountries(color=border_color)\n",
        "m.fillcontinents(color=land_color, lake_color=water_color)\n",
        "m.drawstates(color=border_color)\n",
        "m.drawmapboundary(fill_color=water_color)\n",
        "\n",
        "\n",
        "plt.show()"
      ],
      "execution_count": 0,
      "outputs": []
    },
    {
      "cell_type": "code",
      "metadata": {
        "id": "PUp592ubcdM4",
        "colab_type": "code",
        "colab": {}
      },
      "source": [
        "import osmnx as ox\n",
        "ox.config(use_cache=True, log_console=True)\n",
        "point = (44.97701667, -93.24093333)\n",
        "dist = 10000\n",
        "north, south, east, west = ox.bbox_from_point(point, distance=dist)\n",
        "G = ox.graph_from_bbox(north=north, south=south, east=east, west=west,\n",
        "                       retain_all=True, truncate_by_edge=True, simplify=False,\n",
        "                       network_type='none', infrastructure='way[\"waterway\"]')\n",
        "fig, ax = ox.plot_graph(ox.project_graph(G))"
      ],
      "execution_count": 0,
      "outputs": []
    },
    {
      "cell_type": "code",
      "metadata": {
        "id": "ESTdIVfddVbS",
        "colab_type": "code",
        "colab": {}
      },
      "source": [
        "ox.save_load.graph_to_gdfs(G, nodes=True, edges=True, node_geometry=True, fill_edge_geometry=True)"
      ],
      "execution_count": 0,
      "outputs": []
    },
    {
      "cell_type": "code",
      "metadata": {
        "id": "Oro5XCDvju8v",
        "colab_type": "code",
        "colab": {}
      },
      "source": [
        "point = (44.97701667, -93.24093333)\n",
        "ox.pois.pois_from_point(point, distance=None, amenities=None)"
      ],
      "execution_count": 0,
      "outputs": []
    },
    {
      "cell_type": "code",
      "metadata": {
        "id": "iJIlPVMHoQZO",
        "colab_type": "code",
        "colab": {}
      },
      "source": [
        "# get the place shape\n",
        "gdf = ox.gdf_from_place('Portland, Maine')\n",
        "gdf = ox.project_gdf(gdf)\n",
        "\n",
        "# get the street network, with retain_all=True to retain all the disconnected islands' networks\n",
        "G = ox.graph_from_place('Portland, Maine', network_type='drive', retain_all=True)\n",
        "G = ox.project_graph(G)"
      ],
      "execution_count": 0,
      "outputs": []
    },
    {
      "cell_type": "code",
      "metadata": {
        "id": "M5LytOr1oUc_",
        "colab_type": "code",
        "colab": {}
      },
      "source": [
        "# plot the network, but do not show it or close it yet\n",
        "fig, ax = ox.plot_graph(G, fig_height=10, show=False, close=False, edge_color='#777777')\n",
        "plt.close()"
      ],
      "execution_count": 0,
      "outputs": []
    },
    {
      "cell_type": "code",
      "metadata": {
        "id": "GDrS7pOmoqQj",
        "colab_type": "code",
        "colab": {}
      },
      "source": [
        "from descartes import PolygonPatch\n",
        "from shapely.geometry import Polygon, MultiPolygon"
      ],
      "execution_count": 0,
      "outputs": []
    },
    {
      "cell_type": "code",
      "metadata": {
        "id": "9esJt7NToXRJ",
        "colab_type": "code",
        "colab": {}
      },
      "source": [
        "# to this matplotlib axis, add the place shape as descartes polygon patches\n",
        "for geometry in gdf['geometry'].tolist():\n",
        "    if isinstance(geometry, (Polygon, MultiPolygon)):\n",
        "        if isinstance(geometry, Polygon):\n",
        "            geometry = MultiPolygon([geometry])\n",
        "        for polygon in geometry:\n",
        "            patch = PolygonPatch(polygon, fc='#cccccc', ec='k', linewidth=3, alpha=0.1, zorder=-1)\n",
        "            ax.add_patch(patch)"
      ],
      "execution_count": 0,
      "outputs": []
    },
    {
      "cell_type": "code",
      "metadata": {
        "id": "yb-9gvMaoaYs",
        "colab_type": "code",
        "colab": {}
      },
      "source": [
        "# optionally set up the axes extents all nicely\n",
        "margin = 0.02\n",
        "west, south, east, north = gdf.unary_union.bounds\n",
        "margin_ns = (north - south) * margin\n",
        "margin_ew = (east - west) * margin\n",
        "ax.set_ylim((south - margin_ns, north + margin_ns))\n",
        "ax.set_xlim((west - margin_ew, east + margin_ew))\n",
        "fig"
      ],
      "execution_count": 0,
      "outputs": []
    },
    {
      "cell_type": "code",
      "metadata": {
        "id": "EfeGiqEDs0Hh",
        "colab_type": "code",
        "colab": {}
      },
      "source": [
        "crs = {'init': 'epsg:4326'}\n",
        "gdf = gdf.to_crs(crs)"
      ],
      "execution_count": 0,
      "outputs": []
    },
    {
      "cell_type": "code",
      "metadata": {
        "id": "99UlOx9MsNTg",
        "colab_type": "code",
        "colab": {}
      },
      "source": [
        "# temp =ox.footprints.osm_footprints_download(polygon=gdf.geometry[0], north=None, south=None, east=None, west=None, footprint_type='building', timeout=180, memory=None, max_query_area_size=2500000000)"
      ],
      "execution_count": 0,
      "outputs": []
    },
    {
      "cell_type": "code",
      "metadata": {
        "id": "D2XAtGhOvrYW",
        "colab_type": "code",
        "colab": {}
      },
      "source": [
        "temp = ox.core.gdf_from_place('Maranon River', gdf_name='Maranon River', which_result=1, buffer_dist=None)\n",
        "temp.plot()"
      ],
      "execution_count": 0,
      "outputs": []
    },
    {
      "cell_type": "code",
      "metadata": {
        "id": "Zo99pAnttwXs",
        "colab_type": "code",
        "colab": {}
      },
      "source": [
        "tgdf = ox.footprints.footprints_from_polygon(gdf.geometry[0], footprint_type='waterway', retain_invalid=False)\n",
        "tgdf.plot()"
      ],
      "execution_count": 0,
      "outputs": []
    },
    {
      "cell_type": "code",
      "metadata": {
        "id": "X8gqUOm6ZZZL",
        "colab_type": "code",
        "colab": {}
      },
      "source": [
        "# openfile(False)\n",
        "shp_path = 'hydrolines.shp'\n",
        "\n",
        "gdf_water_line = gpd.read_file(shp_path)\n",
        "gdf_water_line.head()"
      ],
      "execution_count": 0,
      "outputs": []
    },
    {
      "cell_type": "code",
      "metadata": {
        "id": "FCiOEINoa_cj",
        "colab_type": "code",
        "colab": {}
      },
      "source": [
        "import geopandas as gpd #\n",
        "import pandas as pd #\n",
        "from shapely.geometry import shape\n",
        "from shapely.geometry import Point, MultiPoint\n",
        "from shapely.ops import nearest_points\n",
        "from json import loads\n",
        "import matplotlib.pyplot as plt\n",
        "\n",
        "\n",
        "crs = {'init': 'epsg:4326'}\n",
        "pd.set_option('display.max_columns', None)"
      ],
      "execution_count": 0,
      "outputs": []
    },
    {
      "cell_type": "code",
      "metadata": {
        "id": "KFkcHSyMbtmS",
        "colab_type": "code",
        "colab": {}
      },
      "source": [
        "gdf_water_line.info()"
      ],
      "execution_count": 0,
      "outputs": []
    },
    {
      "cell_type": "code",
      "metadata": {
        "id": "WCLk_uR4ZsA6",
        "colab_type": "code",
        "colab": {}
      },
      "source": [
        "joined = gpd.sjoin(gdf_water_line, gdf_as,op='intersects')\n",
        "print(joined.info())\n",
        "joined"
      ],
      "execution_count": 0,
      "outputs": []
    },
    {
      "cell_type": "code",
      "metadata": {
        "id": "6acyopMoZipp",
        "colab_type": "code",
        "colab": {}
      },
      "source": [
        "# openfile(False)\n",
        "shp_path = 'hydropolys.shp'\n",
        "\n",
        "gdf_water = gpd.read_file(shp_path)\n",
        "gdf_water.head()"
      ],
      "execution_count": 0,
      "outputs": []
    }
  ]
}